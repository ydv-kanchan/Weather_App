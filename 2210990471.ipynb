{
 "cells": [
  {
   "cell_type": "code",
   "execution_count": 74,
   "id": "4eef28a5",
   "metadata": {},
   "outputs": [
    {
     "name": "stdout",
     "output_type": "stream",
     "text": [
      "Requirement already satisfied: geopy in c:\\users\\ydvka\\anaconda3\\lib\\site-packages (2.4.1)Note: you may need to restart the kernel to use updated packages.\n",
      "\n",
      "Requirement already satisfied: geographiclib<3,>=1.52 in c:\\users\\ydvka\\anaconda3\\lib\\site-packages (from geopy) (2.0)\n"
     ]
    }
   ],
   "source": [
    "pip install geopy"
   ]
  },
  {
   "cell_type": "code",
   "execution_count": 75,
   "id": "2bf68cea",
   "metadata": {},
   "outputs": [
    {
     "name": "stdout",
     "output_type": "stream",
     "text": [
      "Requirement already satisfied: timezonefinder in c:\\users\\ydvka\\anaconda3\\lib\\site-packages (6.5.0)\n",
      "Requirement already satisfied: cffi<2,>=1.15.1 in c:\\users\\ydvka\\anaconda3\\lib\\site-packages (from timezonefinder) (1.15.1)\n",
      "Requirement already satisfied: h3<4,>=3.7.6 in c:\\users\\ydvka\\anaconda3\\lib\\site-packages (from timezonefinder) (3.7.7)\n",
      "Requirement already satisfied: numpy<2,>=1.23 in c:\\users\\ydvka\\anaconda3\\lib\\site-packages (from timezonefinder) (1.24.3)\n",
      "Requirement already satisfied: setuptools>=65.5 in c:\\users\\ydvka\\anaconda3\\lib\\site-packages (from timezonefinder) (68.0.0)\n",
      "Requirement already satisfied: pycparser in c:\\users\\ydvka\\anaconda3\\lib\\site-packages (from cffi<2,>=1.15.1->timezonefinder) (2.21)\n",
      "Note: you may need to restart the kernel to use updated packages.\n"
     ]
    }
   ],
   "source": [
    "pip install timezonefinder"
   ]
  },
  {
   "cell_type": "code",
   "execution_count": 76,
   "id": "b2f05f97",
   "metadata": {},
   "outputs": [
    {
     "name": "stdout",
     "output_type": "stream",
     "text": [
      "Requirement already satisfied: pytz in c:\\users\\ydvka\\anaconda3\\lib\\site-packages (2023.3.post1)\n",
      "Note: you may need to restart the kernel to use updated packages.\n"
     ]
    }
   ],
   "source": [
    "pip install pytz"
   ]
  },
  {
   "cell_type": "code",
   "execution_count": 77,
   "id": "35846d6c",
   "metadata": {},
   "outputs": [],
   "source": [
    "from tkinter import *"
   ]
  },
  {
   "cell_type": "code",
   "execution_count": 78,
   "id": "7867130f",
   "metadata": {},
   "outputs": [],
   "source": [
    "import tkinter as tk"
   ]
  },
  {
   "cell_type": "code",
   "execution_count": 79,
   "id": "c15405ff",
   "metadata": {},
   "outputs": [],
   "source": [
    "from geopy.geocoders import Nominatim"
   ]
  },
  {
   "cell_type": "code",
   "execution_count": 80,
   "id": "d00f5b1d",
   "metadata": {},
   "outputs": [],
   "source": [
    "from tkinter import ttk,messagebox"
   ]
  },
  {
   "cell_type": "code",
   "execution_count": 81,
   "id": "da6a1468",
   "metadata": {},
   "outputs": [],
   "source": [
    "from timezonefinder import TimezoneFinder"
   ]
  },
  {
   "cell_type": "code",
   "execution_count": 82,
   "id": "8cdbd5a3",
   "metadata": {},
   "outputs": [],
   "source": [
    "from datetime import datetime"
   ]
  },
  {
   "cell_type": "code",
   "execution_count": 83,
   "id": "f80c66d5",
   "metadata": {},
   "outputs": [],
   "source": [
    "import requests"
   ]
  },
  {
   "cell_type": "code",
   "execution_count": 84,
   "id": "d00fad1e",
   "metadata": {},
   "outputs": [],
   "source": [
    "import pytz"
   ]
  },
  {
   "cell_type": "code",
   "execution_count": null,
   "id": "29b52b40",
   "metadata": {},
   "outputs": [],
   "source": [
    "import tkinter as tk\n",
    "from tkinter import Label, Button, Entry, PhotoImage, BOTTOM\n",
    "from geopy.geocoders import Nominatim\n",
    "from timezonefinder import TimezoneFinder\n",
    "import pytz\n",
    "from datetime import datetime  # Import datetime module\n",
    "\n",
    "root = tk.Tk()\n",
    "root.title(\"Weather App\")\n",
    "root.geometry(\"900x500+300+200\")\n",
    "root.resizable(False, False)\n",
    "\n",
    "def getWeather():\n",
    "    try:\n",
    "        city = textfield.get()\n",
    "        geolocator = Nominatim(user_agent=\"geoapiExercises\")\n",
    "        location = geolocator.geocode(city)\n",
    "        obj = TimezoneFinder()\n",
    "        result = obj.timezone_at(lng=location.longitude, lat=location.latitude)\n",
    "        home = pytz.timezone(result)\n",
    "        local_time = datetime.now(home)  # Fix typo here\n",
    "        current_time = local_time.strftime(\"%I:%M %p\")\n",
    "        clock.config(text=current_time)\n",
    "        name.config(text=\"CURRENT WEATHER\")\n",
    "    \n",
    "    \n",
    "        #weather\n",
    "        api=\"https://api.openweathermap.org/data/2.5/weather?q\"+city+\"&appid=11dfe89b5f8bb60ec0ebb739344ded9a\"\n",
    "        json_data = requests.get(api).json()\n",
    "        condition =json_data['weather'][0]['description']\n",
    "        temp=int(json_data['main']['temp']-273.15)\n",
    "        pressure=json_data['main']['pressure']\n",
    "        humidity = json_data['main']['humidity']\n",
    "        wind=json_data['wind']['speed']\n",
    "        t.config(text=(temp,\"°\"))\n",
    "        c.config(text=(condition,\"|\",\"FEELS\",\"LIKE\",temp,\"°\"))\n",
    "    \n",
    "        w.config(text=wind)\n",
    "        h.config(text=humidity)\n",
    "        d.config(text=description)\n",
    "        p.config(text=pressure)\n",
    "    \n",
    "    except Exception as e:\n",
    "        messagebox.showerror(\"Weather App\", \"Invalid Entry!!\")\n",
    "    \n",
    "\n",
    "\n",
    "\n",
    "\n",
    "#search box\n",
    "Search_image=PhotoImage(file=\"search.png\")\n",
    "myimage=Label(image=Search_image)\n",
    "myimage.place(x=20,y=20)\n",
    "\n",
    "textfield=tk.Entry(root,justify=\"center\",width=17,font=(\"poppins\",25,\"bold\"))\n",
    "textfield.place(x=50,y=40)\n",
    "textfield.focus()\n",
    "\n",
    "Search_icon=PhotoImage(file=\"search_icon.png\")\n",
    "\n",
    "myimage_icon=Button(image=Search_icon,borderwidth=0,cursor=\"hand2\",bg=\"#404040\",command=getWeather)\n",
    "myimage_icon.place(x=400,y=34)\n",
    "\n",
    "\n",
    "#logo\n",
    "Logo_image=PhotoImage(file=\"logo.png\")\n",
    "logo=Label(image=Logo_image)\n",
    "logo.place(x=150,y=100)\n",
    "\n",
    "\n",
    "#Bottom box\n",
    "Frame_image=PhotoImage(file=\"box.png\")\n",
    "frame_myimage=Label(image=Frame_image)\n",
    "frame_myimage.pack(padx=5,pady=5,side=BOTTOM)\n",
    "\n",
    "#time\n",
    "name=Label(root, font=(\"arial\", 15, \"bold\"))\n",
    "name.place (x = 30,y = 100 )\n",
    "clock=Label(root, font=(\"Helvetica\", 20))\n",
    "clock.place( x=30,y=130)\n",
    "\n",
    "\n",
    "\n",
    "#label\n",
    "label1=Label(root, text=\"WIND\", font=(\"Helvetica\", 15, 'bold'), fg=\"white\", bg=\"#1ab5ef\")\n",
    "label1.place(x=120,y=400)\n",
    "label2 = Label(root, text=\"HUMIDITY\", font=(\"Helvetica\", 15, 'bold'), fg=\"white\", bg=\"#1ab5ef\")\n",
    "label2.place(x=225, y=400)\n",
    "label3=Label(root, text=\"DESCRIPTION\", font=(\"Helvetica\", 15, 'bold'), fg=\"white\", bg=\"#1ab5ef\") \n",
    "label3.place(x=430,y=400)\n",
    "label4=Label(root, text=\"PRESSURE\", font=(\"Helvetica\", 15, 'bold'), fg=\"white\", bg=\"#1ab5ef\")\n",
    "label4.place(x=650,y=400)\n",
    "\n",
    "t=Label(font=(\"arial\", 70,\"bold\"), fg=\"#ee666d\")\n",
    "t.place (x=400,y=150)\n",
    "c=Label(font=(\"arial\", 15, 'bold'))\n",
    "c.place (x=400,y=250)\n",
    "\n",
    "w=Label(text=\"...\", font=(\"arial\", 20, \"bold\"), bg=\"#1ab5ef\")\n",
    "w.place(x=120,y=430)\n",
    "h=Label(text=\"...\", font=(\"arial\", 20, \"bold\"), bg=\"#1ab5ef\")\n",
    "h.place(x=280,y=430)\n",
    "d=Label(text=\"...\", font=(\"arial\", 20, \"bold\"), bg=\"#1ab5ef\")\n",
    "d.place(x=450, y=430)\n",
    "p=Label(text=\"...\", font=(\"arial\", 20, \"bold\"), bg=\"#1ab5ef\")\n",
    "p.place(x=670,y=430)\n",
    "\n",
    "\n",
    "\n",
    "\n",
    "root.mainloop()"
   ]
  },
  {
   "cell_type": "code",
   "execution_count": null,
   "id": "c30528b9",
   "metadata": {},
   "outputs": [],
   "source": []
  }
 ],
 "metadata": {
  "kernelspec": {
   "display_name": "Python 3 (ipykernel)",
   "language": "python",
   "name": "python3"
  },
  "language_info": {
   "codemirror_mode": {
    "name": "ipython",
    "version": 3
   },
   "file_extension": ".py",
   "mimetype": "text/x-python",
   "name": "python",
   "nbconvert_exporter": "python",
   "pygments_lexer": "ipython3",
   "version": "3.11.5"
  }
 },
 "nbformat": 4,
 "nbformat_minor": 5
}
